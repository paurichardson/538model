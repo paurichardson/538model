{
  "nbformat": 4,
  "nbformat_minor": 0,
  "metadata": {
    "colab": {
      "name": "Copy of Copy of pip gdrive.ipynb",
      "provenance": [],
      "collapsed_sections": [],
      "include_colab_link": true
    },
    "kernelspec": {
      "name": "python3",
      "display_name": "Python 3"
    }
  },
  "cells": [
    {
      "cell_type": "markdown",
      "metadata": {
        "id": "view-in-github",
        "colab_type": "text"
      },
      "source": [
        "<a href=\"https://colab.research.google.com/github/paurichardson/538model/blob/master/Copy_of_Copy_of_pip_gdrive.ipynb\" target=\"_parent\"><img src=\"https://colab.research.google.com/assets/colab-badge.svg\" alt=\"Open In Colab\"/></a>"
      ]
    },
    {
      "cell_type": "markdown",
      "metadata": {
        "id": "3aRF6H2sKe_z"
      },
      "source": [
        "Method to install a Python Library in Google Drive permanently. \n",
        "\n",
        "You can use it from any new Colab notebook."
      ]
    },
    {
      "cell_type": "code",
      "metadata": {
        "id": "9NfALqf_KcUb",
        "colab": {
          "base_uri": "https://localhost:8080/",
          "height": 124
        },
        "outputId": "6960fc70-febf-4c0a-dd10-cf64fc338700"
      },
      "source": [
        "import os, sys\n",
        "from google.colab import drive\n",
        "drive.mount('/content/mnt')\n",
        "nb_path = '/content/notebooks'\n",
        "os.symlink('/content/mnt/My Drive/Colab Notebooks', nb_path)\n",
        "sys.path.insert(0, nb_path)  # or append(nb_path)"
      ],
      "execution_count": null,
      "outputs": [
        {
          "output_type": "stream",
          "text": [
            "Go to this URL in a browser: https://accounts.google.com/o/oauth2/auth?client_id=947318989803-6bn6qk8qdgf4n4g3pfee6491hc0brc4i.apps.googleusercontent.com&redirect_uri=urn%3Aietf%3Awg%3Aoauth%3A2.0%3Aoob&scope=email%20https%3A%2F%2Fwww.googleapis.com%2Fauth%2Fdocs.test%20https%3A%2F%2Fwww.googleapis.com%2Fauth%2Fdrive%20https%3A%2F%2Fwww.googleapis.com%2Fauth%2Fdrive.photos.readonly%20https%3A%2F%2Fwww.googleapis.com%2Fauth%2Fpeopleapi.readonly&response_type=code\n",
            "\n",
            "Enter your authorization code:\n",
            "··········\n",
            "Mounted at /content/mnt\n"
          ],
          "name": "stdout"
        }
      ]
    },
    {
      "cell_type": "markdown",
      "metadata": {
        "id": "gh71e_USGUBo"
      },
      "source": [
        "4/1AX4XfWjoB8MCmyBYekNKcw3LB1ag-I_znkEypELSMe3ouv3MPMl2irdpSdg"
      ]
    },
    {
      "cell_type": "code",
      "metadata": {
        "id": "trAxoCkMLgF1",
        "colab": {
          "base_uri": "https://localhost:8080/"
        },
        "outputId": "e6862aff-6286-4d29-e3ed-b811ca267788"
      },
      "source": [
        "# Install only once. Tomorrow, you can skip this.\n",
        "!pip install --target=$nb_path jdc"
      ],
      "execution_count": 1,
      "outputs": [
        {
          "output_type": "stream",
          "text": [
            "Collecting jdc\n",
            "  Downloading jdc-0.0.9-py2.py3-none-any.whl (2.1 kB)\n",
            "Installing collected packages: jdc\n",
            "Successfully installed jdc-0.0.9\n"
          ],
          "name": "stdout"
        }
      ]
    },
    {
      "cell_type": "code",
      "metadata": {
        "id": "lC7fNEcZNeFV"
      },
      "source": [
        "# import to use %%add_to\n",
        "import jdc"
      ],
      "execution_count": 2,
      "outputs": []
    },
    {
      "cell_type": "code",
      "metadata": {
        "id": "0JAuE76QNevG"
      },
      "source": [
        "class MyClass:\n",
        "  pass"
      ],
      "execution_count": 3,
      "outputs": []
    },
    {
      "cell_type": "code",
      "metadata": {
        "id": "83HoOUNZNsSz",
        "colab": {
          "base_uri": "https://localhost:8080/"
        },
        "outputId": "eaf1459b-a7d1-4e73-ab83-b426d16c4670"
      },
      "source": [
        "mc = MyClass()\n",
        "mc"
      ],
      "execution_count": 4,
      "outputs": [
        {
          "output_type": "execute_result",
          "data": {
            "text/plain": [
              "<__main__.MyClass at 0x7f396920f050>"
            ]
          },
          "metadata": {},
          "execution_count": 4
        }
      ]
    },
    {
      "cell_type": "code",
      "metadata": {
        "id": "43pXnhJjNuDT"
      },
      "source": [
        "%%add_to MyClass\n",
        "def hello(self):\n",
        "  print(\"hello\")"
      ],
      "execution_count": 5,
      "outputs": []
    },
    {
      "cell_type": "code",
      "metadata": {
        "id": "N_1ffmTUNz14",
        "colab": {
          "base_uri": "https://localhost:8080/"
        },
        "outputId": "5f39eacc-11ee-4148-bb36-4618c825088a"
      },
      "source": [
        "mc.hello()"
      ],
      "execution_count": 6,
      "outputs": [
        {
          "output_type": "stream",
          "text": [
            "hello\n"
          ],
          "name": "stdout"
        }
      ]
    },
    {
      "cell_type": "markdown",
      "metadata": {
        "id": "4iwjJw0zGpru"
      },
      "source": [
        ""
      ]
    },
    {
      "cell_type": "code",
      "metadata": {
        "id": "56moAccaN6uv"
      },
      "source": [
        ""
      ],
      "execution_count": null,
      "outputs": []
    }
  ]
}